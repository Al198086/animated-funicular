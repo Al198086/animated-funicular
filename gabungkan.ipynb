{
 "cells": [
  {
   "cell_type": "code",
   "execution_count": 9,
   "metadata": {},
   "outputs": [
    {
     "name": "stdout",
     "output_type": "stream",
     "text": [
      "   Direction  Year        Date    Weekday Measure      Value  Cumulative  \\\n",
      "0    Exports  2015    1/1/2015   Thursday       $  104000000   104000000   \n",
      "1    Exports  2015    2/1/2015     Friday       $   96000000   200000000   \n",
      "2    Exports  2015    3/1/2015   Saturday       $   61000000   262000000   \n",
      "3    Exports  2015    4/1/2015     Sunday       $   74000000   336000000   \n",
      "4    Exports  2015    5/1/2015     Monday       $  105000000   442000000   \n",
      "5    Exports  2015    6/1/2015    Tuesday       $   76000000   518000000   \n",
      "6    Exports  2015    7/1/2015  Wednesday       $   59000000   577000000   \n",
      "7    Exports  2015    8/1/2015   Thursday       $  111000000   688000000   \n",
      "8    Exports  2015    9/1/2015     Friday       $   98000000   786000000   \n",
      "9    Exports  2015   10/1/2015   Saturday       $   89000000   875000000   \n",
      "10   Exports  2015   11/1/2015     Sunday       $  111000000   986000000   \n",
      "11   Exports  2015   12/1/2015     Monday       $  161000000  1147000000   \n",
      "12   Exports  2015  13/01/2015    Tuesday       $   96000000  1242000000   \n",
      "13   Exports  2015  14/01/2015  Wednesday       $   83000000  1325000000   \n",
      "14   Exports  2015  15/01/2015   Thursday       $  109000000  1434000000   \n",
      "15   Exports  2015  16/01/2015     Friday       $  155000000  1589000000   \n",
      "16   Exports  2015  17/01/2015   Saturday       $  168000000  1757000000   \n",
      "17   Exports  2015  18/01/2015     Sunday       $   90000000  1847000000   \n",
      "18   Exports  2015  19/01/2015     Monday       $  164000000  2011000000   \n",
      "19   Exports  2015  20/01/2015    Tuesday       $  134000000  2145000000   \n",
      "\n",
      "   Country Commodity Transport_Mode  \n",
      "0      All       All            All  \n",
      "1      All       All            All  \n",
      "2      All       All            All  \n",
      "3      All       All            All  \n",
      "4      All       All            All  \n",
      "5      All       All            All  \n",
      "6      All       All            All  \n",
      "7      All       All            All  \n",
      "8      All       All            All  \n",
      "9      All       All            All  \n",
      "10     All       All            All  \n",
      "11     All       All            All  \n",
      "12     All       All            All  \n",
      "13     All       All            All  \n",
      "14     All       All            All  \n",
      "15     All       All            All  \n",
      "16     All       All            All  \n",
      "17     All       All            All  \n",
      "18     All       All            All  \n",
      "19     All       All            All  \n",
      "MinMaxScaler applied on the X:\n",
      " [[8.18943534 8.00161576]\n",
      " [8.17486339 8.00310723]\n",
      " [8.11111111 8.00407047]\n",
      " ...\n",
      " [8.00182149 8.00051269]\n",
      " [8.         8.00051269]\n",
      " [8.         8.00051269]]\n"
     ]
    }
   ],
   "source": [
    "#FORCASTING\n",
    "\n",
    "#import library\n",
    "import pandas as pd\n",
    "import numpy as np\n",
    "import matplotlib.pyplot as plt\n",
    "from sklearn import preprocessing\n",
    "from sklearn.preprocessing import MinMaxScaler\n",
    "from sklearn.metrics import mean_squared_error\n",
    "from sklearn.metrics import accuracy_score\n",
    "\n",
    "#import dataset\n",
    "dataset= pd.read_csv('trade1.csv')\n",
    "print(dataset.head(20))\n",
    "\n",
    "#tampilkan data untuk di hitung\n",
    "dataset = pd.read_csv('trade1.csv')\n",
    "X = dataset.iloc[:, [5,6]].values\n",
    "\n",
    "\n",
    "\n",
    "#menghitung minmax data\n",
    "minmax_scaler = preprocessing.MinMaxScaler(feature_range=(8,9))\n",
    "data_minmax = minmax_scaler.fit_transform(X)\n",
    "print('MinMaxScaler applied on the X:\\n',data_minmax)"
   ]
  },
  {
   "cell_type": "code",
   "execution_count": 22,
   "metadata": {},
   "outputs": [
    {
     "name": "stdout",
     "output_type": "stream",
     "text": [
      "<class 'pandas.core.frame.DataFrame'>\n",
      "RangeIndex: 98507 entries, 0 to 98506\n",
      "Data columns (total 10 columns):\n",
      " #   Column          Non-Null Count  Dtype \n",
      "---  ------          --------------  ----- \n",
      " 0   Direction       98507 non-null  object\n",
      " 1   Year            98507 non-null  int64 \n",
      " 2   Date            98507 non-null  object\n",
      " 3   Weekday         98507 non-null  object\n",
      " 4   Measure         98507 non-null  object\n",
      " 5   Value           98507 non-null  int64 \n",
      " 6   Cumulative      98507 non-null  int64 \n",
      " 7   Country         98507 non-null  object\n",
      " 8   Commodity       98507 non-null  object\n",
      " 9   Transport_Mode  98507 non-null  object\n",
      "dtypes: int64(3), object(7)\n",
      "memory usage: 7.5+ MB\n",
      "\n",
      "\n"
     ]
    }
   ],
   "source": [
    "import pandas as pd\n",
    "import numpy as np\n",
    "import seaborn as sns\n",
    "import matplotlib.pyplot as plt\n",
    "from sklearn.cluster import KMeans\n",
    "from sklearn.preprocessing import MinMaxScaler\n",
    "\n",
    "dataset_x = pd.read_csv(\"trade1.csv\")\n",
    "dataset.head()\n",
    "#melihat infor setiap variabel\n",
    "dataset.info()\n",
    "print(\"\\n\")"
   ]
  },
  {
   "cell_type": "code",
   "execution_count": null,
   "metadata": {},
   "outputs": [],
   "source": [
    "\n"
   ]
  }
 ],
 "metadata": {
  "kernelspec": {
   "display_name": "Python 3",
   "language": "python",
   "name": "python3"
  },
  "language_info": {
   "codemirror_mode": {
    "name": "ipython",
    "version": 3
   },
   "file_extension": ".py",
   "mimetype": "text/x-python",
   "name": "python",
   "nbconvert_exporter": "python",
   "pygments_lexer": "ipython3",
   "version": "3.8.5"
  }
 },
 "nbformat": 4,
 "nbformat_minor": 4
}
